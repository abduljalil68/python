{
 "metadata": {
  "language_info": {
   "codemirror_mode": {
    "name": "ipython",
    "version": 3
   },
   "file_extension": ".py",
   "mimetype": "text/x-python",
   "name": "python",
   "nbconvert_exporter": "python",
   "pygments_lexer": "ipython3",
   "version": "3.8.6-final"
  },
  "orig_nbformat": 2,
  "kernelspec": {
   "name": "python3",
   "display_name": "Python 3.8.6 64-bit ('belajar1': conda)",
   "metadata": {
    "interpreter": {
     "hash": "e9642468312b1071a486abe936eca51c329201d3d5a581a93e43b3d86c51e82f"
    }
   }
  }
 },
 "nbformat": 4,
 "nbformat_minor": 2,
 "cells": [
  {
   "source": [
    "## **Tutorial 1**  \n",
    "\n",
    "Objectives:  \n",
    "1. Required softwares and dependencies are installed  \n",
    "2. First program in Python is written and run successfully  \n",
    "\n",
    "Activities  \n",
    "\n",
    "1. Install Anaconda (package manager Conda) ( https://docs.anaconda.com/anaconda/install/ )  \n",
    "    - Download anaconda installer: https://www.anaconda.com/products/individual#windows.  \n",
    "    - Follow the steps to install.  \n",
    "  \n",
    "   Note: Make sure there is no space in the anaconda python.exe path.  \n",
    "    <p></p>    \n",
    "2. Installation of VSCode for Python ( https://code.visualstudio.com/docs/languages/python )  \n",
    "    - Download VSCode installer: https://code.visualstudio.com/  \n",
    "    - Follow the steps to install.  \n",
    "    - Open VSCode.  \n",
    "    - Open Extension list.  \n",
    "    - Search for “Python”. Install it.   \n",
    "  \n",
    "    <p></p> \n",
    "3. Setting Python environment ( https://code.visualstudio.com/docs/python/environments )   \n",
    "    - Open Anaconda Navigator.  \n",
    "    - Create new environment, name it 'belajar1'. Note its python.exe location.  \n",
    "    - Go to VSCode.  \n",
    "    - Press Ctrl+Shift+P. Choose “Python: Select Interpreter”.  \n",
    "    - Enter the python.exe location.  \n",
    "  \n",
    "    <p></p> \n",
    "4. Install Jupyter Notebook ( https://code.visualstudio.com/docs/python/jupyter-support )  \n",
    "    - Go to VSCode.  \n",
    "    - Open Extension list.  \n",
    "    - Search for “Jupyter”. Install it.  \n",
    "  \n",
    "    <p></p> \n",
    "5. Install library: Opensee ( https://openseespydoc.readthedocs.io/en/latest/ )  \n",
    "    - Open Anaconda Prompt (Do not use Jupyter. Using pip in Jupyter automatically install packager in base environment)  \n",
    "    - Run (type code below and enter):  \n",
    "        <code>conda activate belajar1</code>    \n",
    "    - Run:  \n",
    "        <code>pip install openseespy</code>  \n",
    "  \n",
    "    <p></p> \n",
    "6. Write first Python program (https://code.visualstudio.com/docs/python/python-tutorial )  \n",
    "    - Type:  \n",
    "        <code>print(‘hello world’)</code>    \n",
    "    - Press Shift+Enter to run the code"
   ],
   "cell_type": "markdown",
   "metadata": {}
  },
  {
   "cell_type": "code",
   "execution_count": 1,
   "metadata": {},
   "outputs": [
    {
     "output_type": "stream",
     "name": "stdout",
     "text": [
      "hello world\n"
     ]
    }
   ],
   "source": [
    "print('hello world')"
   ]
  },
  {
   "source": [
    "(7) Check if Opensees installed properly by running the code below. If Opensees is installed properly the code below should not give any error."
   ],
   "cell_type": "markdown",
   "metadata": {}
  },
  {
   "cell_type": "code",
   "execution_count": 2,
   "metadata": {},
   "outputs": [],
   "source": [
    "import openseespy.opensees as ops"
   ]
  }
 ]
}