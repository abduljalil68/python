{
 "cells": [
  {
   "cell_type": "markdown",
   "metadata": {},
   "source": [
    "## **Homework 2**  \n",
    "This homework has 3 parts:  \n",
    "1. Coding exercise in Jupyter Notebook (60 points)  \n",
    "2. Coding exercise in Python module (.py file) (30 points)  \n",
    "3. Understanding Python packages (10 points)  \n",
    "  \n",
    "In the first part, the proram should be written in Jupyter Notebook. In the second and third part, the program should be written in the Python module file (.py file). The Python modules are then called in the Jupyter Notebook. In the third part, we will explore how to call a .py file from different directory. The  tasks have to be done sequentially from Task 1 in Part 1 to the last task in Part 3.\n",
    "\n",
    "References are given as necessary. Each part starts with a short introduction to the concept followed by the tasks. The points given for each task are based on how difficult the task is based on my opinion.\n",
    "\n",
    "Homework submission guidelines:  \n",
    "  \n",
    "(0) The following files(folders) should be copied to your folder (abdulJalil) from Tutorial folder:  \n",
    "- hw2.ipynb file  \n",
    "- pyTut.py file  \n",
    "- data folder \n",
    " \n",
    "(1) The following files should be submitted  \n",
    "- abdulJalil/hw2Sol.ipynb  \n",
    "This file is like this file but with your answer for all the tasks (like hw1Sol.ipynb compared to hw1.ipynb).  \n",
    "- abdulJalil/hw2p2.py  \n",
    "This file is the Python module you create for the Part 2. \n",
    "- abdulJalil/myPackage/hw2p3.py   \n",
    "This file is the Python module you create for Part 3.  \n",
    "- abdulJalil/myPackage/\\__init__.py  \n",
    "This file is needed to make a package in Part 3.   \n",
    "- abdulJalil/data/hw2p1Output.csv  \n",
    "This file is the output csv file produced by code in Part 1.     \n",
    "- abdulJalil/data/hw2p2Output.csv  \n",
    "This file is the output csv file produced by code in Part 2.  \n",
    "\n",
    "(2) Put these files in your Python Github repository (forked from my Python Github repository).  \n",
    "\n",
    "(3) Make a pull request and inform me once this is done. Once the pull request is approved by me, the submission process is done. \n",
    "\n",
    "(4) Submission deadline is one day before Tutorial 3 (i.e., if Tutorial 3 is on 17/01/2020, HW2 should be submitted by 16/01/2020) "
   ]
  },
  {
   "cell_type": "markdown",
   "metadata": {},
   "source": [
    "### Part 1. Coding exercise in Jupyter Notebook (60 points)  \n",
    "** Introduction **\n",
    "\n",
    "The objective of this part is to use the following concepts:  \n",
    "- Data type  \n",
    "- Control flow  \n",
    "- Function  \n",
    "- Class\n",
    "- Pandas read_csv and to_csv\n",
    "\n",
    "to write a program in Python. This is accomplished by writing codes to complete some tasks. These tasks should be completed in hw2Sol.ipynb (i.e., a copy of this Notebook)"
   ]
  },
  {
   "source": [
    "** Task 1 ** (2 points)  \n",
    "  \n",
    "Sometimes we want to have interactivity with the user. This can be achieved with Python input() function. Run the following cell to assign value '1' to variable x."
   ],
   "cell_type": "markdown",
   "metadata": {}
  },
  {
   "cell_type": "code",
   "execution_count": null,
   "metadata": {},
   "outputs": [],
   "source": [
    "x = input('Please input x value')"
   ]
  },
  {
   "source": [
    "** Task 2 ** (3 points)  \n",
    "  \n",
    "Check the value and the type of variable x by running print(x) and print(type(x)) in the cell below.  \n",
    "  \n",
    "References:  \n",
    "https://www.w3schools.com/python/python_datatypes.asp  \n"
   ],
   "cell_type": "markdown",
   "metadata": {}
  },
  {
   "cell_type": "code",
   "execution_count": null,
   "metadata": {},
   "outputs": [],
   "source": []
  },
  {
   "source": [
    "** Task 3 ** (5 points)  \n",
    "  \n",
    "The code below supposed to do the following  \n",
    "- If x < 2 and x > -2, print: 'Acceptable'  \n",
    "- If x <= -2, print: 'Too small'  \n",
    "- If x >= 2, print: 'Too big'  \n",
    "\n",
    "However, it has some syntax errors. Please fix it and run it again. Hint: x has to have a correct type, indentation has to be correct.  \n",
    "\n",
    "References:  \n",
    "https://www.w3schools.com/python/python_syntax.asp  \n",
    "https://www.w3schools.com/python/python_conditions.asp   \n",
    "https://www.w3schools.com/python/python_casting.asp   \n"
   ],
   "cell_type": "markdown",
   "metadata": {}
  },
  {
   "cell_type": "code",
   "execution_count": null,
   "metadata": {},
   "outputs": [],
   "source": [
    "if(x<2 and x>-2):\n",
    "print('Acceptable')\n",
    "else:\n",
    "if(x<=-2):\n",
    "print('Too small')\n",
    "else:print('Too big')"
   ]
  },
  {
   "source": [
    "** Task 4 ** (10 points)  \n",
    "  \n",
    "When we want to do the same tasks several times, we can use loop. Python has several ways loop can be done. Using loop, write a code to do task in Task 3 for each number in a list below. Write your code after the list definition and run the cell.  \n",
    "\n",
    "References:  \n",
    "https://www.w3schools.com/python/python_lists.asp  \n",
    "https://www.w3schools.com/python/python_while_loops.asp  \n",
    "https://www.w3schools.com/python/python_for_loops.asp"
   ],
   "cell_type": "markdown",
   "metadata": {}
  },
  {
   "cell_type": "code",
   "execution_count": null,
   "metadata": {},
   "outputs": [],
   "source": [
    "xList = [0,-5,2,0.6,5]"
   ]
  },
  {
   "source": [
    "** Task 5 ** (5 points)\n",
    "\n",
    "Function operates on variables and can produce an output and any other side effect (such as print words to screen). Write a function named isOk(x) which implement task in Task 3 in the cell below. Then Run isOk(1) in the same cell to check if isOk function works properly.  \n",
    "\n",
    "References:  \n",
    "https://www.w3schools.com/python/python_functions.asp  "
   ],
   "cell_type": "markdown",
   "metadata": {}
  },
  {
   "cell_type": "code",
   "execution_count": null,
   "metadata": {},
   "outputs": [],
   "source": []
  },
  {
   "source": [
    "** Task 6 ** (5 points)\n",
    "\n",
    "We can create a function without name. This is called lambda function. One of the use of lambda function is as an input to another function which accepts function as variable. Modify the lambda function in the code below so it will calculate the user's input to the power of 4 (i.e., if the user input is 3 it will output 81) \n",
    "\n",
    "References:  \n",
    "https://www.w3schools.com/python/python_lambda.asp"
   ],
   "cell_type": "markdown",
   "metadata": {}
  },
  {
   "cell_type": "code",
   "execution_count": null,
   "metadata": {},
   "outputs": [],
   "source": [
    "def myQuad(func):\n",
    "    x = input('Please input a number')\n",
    "    print(func(float(x))**2)\n",
    "myQuad(lambda x: x+1)"
   ]
  },
  {
   "source": [
    "** Task 7 ** (10 points)  \n",
    "  \n",
    "Class is an abstraction of object. An object based on a class will have properties and methods (functions). The code below will create a class myRectangle. It has 2 properties: width and height, and 2 methods: \\__init__ (for creating object from class) and calcArea (for calculating rectangle area).  \n",
    "\n",
    "Using this class, calculate the area of a rectangle with width = 2 and height = 5 and then print the result to the screen. Write your code below the class definition in the cell below.  \n",
    "\n",
    "References:  \n",
    "https://www.w3schools.com/python/python_classes.asp  "
   ],
   "cell_type": "markdown",
   "metadata": {}
  },
  {
   "cell_type": "code",
   "execution_count": null,
   "metadata": {},
   "outputs": [],
   "source": [
    "class myRectangle:\n",
    "    def __init__(self, width, height):\n",
    "        self.width = width\n",
    "        self.height = height\n",
    "    def calcArea(rectObj):\n",
    "        return rectObj.width*rectObj.height"
   ]
  },
  {
   "source": [
    "** Task 8 ** (20 points)\n",
    "\n",
    "This task is similar to the Tutorial 2. Do:  \n",
    "1. Import pandas and pyTut.py. For this you have to copy pyTut.py to your folder (i.e., abdulJalil/pyTut.py)  \n",
    "2. Using read_csv function in pandas, read data/hw2Input.csv into a DataFrame named df.  \n",
    "3. Print the snapshot of the content using head() method of the DataFrame  \n",
    "4. Run df2 = linFit(df) function from pyTut with df as the input. This function will create a plot of the data and a linear fitting. It will also return a new DataFrame which contain the fitting result together with the data.  \n",
    "5. Write the new DataFrame (df2) into a new csv file called data/hw2p1Output.csv  \n",
    "\n",
    "References:  \n",
    "https://www.w3schools.com/python/pandas_csv.asp  \n",
    "Tut2.ipynb  \n",
    "https://pandas.pydata.org/pandas-docs/stable/reference/api/pandas.DataFrame.to_csv.html  "
   ],
   "cell_type": "markdown",
   "metadata": {}
  },
  {
   "cell_type": "code",
   "execution_count": null,
   "metadata": {},
   "outputs": [],
   "source": []
  },
  {
   "source": [
    "### Part 2. Coding exercise in Python module (.py file) (30 points)  \n",
    "** Introduction **\n",
    "\n",
    "While we can do almost everything (creating class and function, calling them, etc) in Jupyter Notebook as above, sometimes we want to be able to call a function in different file. This cannot be done if the function is inside Jupyter Notebook. It can only be done if the function is inside a Python module (.py file)."
   ],
   "cell_type": "markdown",
   "metadata": {}
  },
  {
   "source": [
    "** Task 1 ** (15 points)\n",
    "\n",
    "1. Export this Jupyter Notebook to a Python module (Python script). In Jupyter Notebook in VSCode, this can be done by choosing \"Export as\" (in the upper control beside 'Trusted') and then choose 'Python Script'. \n",
    "2. Save the Python Script as 'hw2p2.py'.\n",
    "3. Remove all the lines other than the ones for isOk function definition.\n",
    "4. Import the created module to this Notebook (import hw2p2 as hw2p2)\n",
    "5. In the cell below, call the isOk function in the module with input equal to 1. (hw2p2.isOk(1))  \n",
    "  \n",
    "Note: If no.1 fails just try to close the VSCode and open again. If it still fails, then create the isOk function in new file and save the file as hw2p2.py.  \n",
    "\n",
    "References:  \n",
    "https://www.w3schools.com/python/python_modules.asp  "
   ],
   "cell_type": "markdown",
   "metadata": {}
  },
  {
   "cell_type": "code",
   "execution_count": null,
   "metadata": {},
   "outputs": [],
   "source": []
  },
  {
   "source": [
    "** Task 2 ** (15 points)\n",
    "\n",
    "1. In the hw2p2.py file create a function named twice(df) with df is a DataFrame. It should return another DataFrame with the second column value is twice the input DataFrame's second column value. Save the changes.  \n",
    "2. Close this notebook and open it again.  \n",
    "3. In the cell below:\n",
    "    - Import pandas  \n",
    "    - from hw2p2 import twice as tw\n",
    "    - Read data/hw2Input.csv into a DataFrame named df. Print the snapshot.  \n",
    "    - Run df2 = tw(df). Print the snapshot  \n",
    "    - Write the output dataframe (df2) to a new file named 'data/hw2p2Output.csv'  \n",
    "\n",
    "References:  \n",
    "See add1 function in pyTut.py and see the example in Tut2.ipynb"
   ],
   "cell_type": "markdown",
   "metadata": {}
  },
  {
   "cell_type": "code",
   "execution_count": null,
   "metadata": {},
   "outputs": [],
   "source": []
  },
  {
   "source": [
    "### Part 3. Understanding Python packages (10 points)  \n",
    "** Introduction **\n",
    "\n",
    "Module is good. However it has a limitation. It can only be called by the file in the same folder. In order to be able to call function in a file in a different folder, we have to create package. Package basically is a folder with  \\__init__.py file.  \n",
    "\n",
    "References:  \n",
    "https://docs.python.org/3/tutorial/modules.html#packages  "
   ],
   "cell_type": "markdown",
   "metadata": {}
  },
  {
   "source": [
    "** Task 1 ** (10 points)\n",
    "\n",
    "1. Copy the hw2p2.py to a new folder named myPackage and rename it to hw2p3.py (myPackage/hw2p3.py)  \n",
    "2. Create a new Python module inside myPackage folder and named it as \\__init__.py  \n",
    "3. Import the created module to this Notebook (import myPackage.hw2p3 as hw2p3)\n",
    "4. In the cell below, call the isOk function in the hw2p3 module with input equal to 1. (hw2p3.isOk(1))"
   ],
   "cell_type": "markdown",
   "metadata": {}
  },
  {
   "cell_type": "code",
   "execution_count": null,
   "metadata": {},
   "outputs": [],
   "source": []
  }
 ],
 "metadata": {
  "kernelspec": {
   "name": "python3",
   "display_name": "Python 3.8.6 64-bit ('belajar1': conda)",
   "metadata": {
    "interpreter": {
     "hash": "e9642468312b1071a486abe936eca51c329201d3d5a581a93e43b3d86c51e82f"
    }
   }
  },
  "language_info": {
   "codemirror_mode": {
    "name": "ipython",
    "version": 3
   },
   "file_extension": ".py",
   "mimetype": "text/x-python",
   "name": "python",
   "nbconvert_exporter": "python",
   "pygments_lexer": "ipython3",
   "version": "3.8.6-final"
  },
  "orig_nbformat": 2
 },
 "nbformat": 4,
 "nbformat_minor": 2
}