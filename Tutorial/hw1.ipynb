{
 "cells": [
  {
   "cell_type": "markdown",
   "metadata": {},
   "source": [
    "## **Homework 1**  \n",
    "This homework has 4 parts:  \n",
    "1. Understanding Anaconda, VSCode, Python, and Jupyter (30 points) \n",
    "2. Coding exercise in Jupyter Notebook (30 points)    \n",
    "3. (Optional) Working with Github in VSCode  \n",
    "4. (Optional) Working with Windows Subsystem for Linux (WSL) in VSCode  \n",
    "\n",
    "The most important parts will be part 1 and 2. Part 3 and 4 are optional. References are given as necessary. Each part will start with a short introduction to the concept followed by the tasks. The points given for each task are based on how difficult the task is based on my opinion."
   ]
  },
  {
   "cell_type": "markdown",
   "metadata": {},
   "source": [
    "### Part 1. Understanding Anaconda, VSCode, Python, and Jupyter (30 points)  \r\n",
    "** Introduction **\r\n",
    "\r\n",
    "<u>Anaconda Navigator</u>  \r\n",
    "Anaconda Navigator is a user-friendly interface for running Anaconda. Anaconda is used to create environments for Python programming easily. Enviroment are a set of programs (packages) that are bundled into one folder. When you create a Python environment in Anaconda, it will automatically download and install some programs including Python interpreter (python.exe) and Conda. Conda is a package manager: a program to make sure there is no clash between packages installed in the same environment. Conda can be used to install more packages into an environment. This concept is illustrated in Fig.1. \r\n",
    "\r\n",
    "![Fig.1. Anaconda environment](Fig1.JPG)  \r\n",
    "Fig. 1. Anaconda environment. Each environment contains programs (packages) independent of the other environments.  \r\n",
    "\r\n",
    "<u>VSCode</u>  \r\n",
    "VSCode is an enhanced text editor. Unlike plain text editor such as Notepad, we can install an extension to make VSCode to be smarter. Example of these extensions are Python and Jupyter which we installed in Tutorial 1.  \r\n",
    "\r\n",
    "<u>Python</u>  \r\n",
    "The Python extension of VSCode allows VSCode to \"understand\" some parts of Python language (for example, it can mark Python keywords with different color). It also allows VSCode to call python.exe (the interpreter of Python language). However, to do this, we have to tell VSCode where to find this interpreter (by pressing Ctrl+Shift+P and then choose the \"Python: Select Interpreter\" command).\r\n",
    "\r\n",
    "<u>Jupyter Notebook</u>  \r\n",
    "The Jupyter extension of VSCode allows VSCode to open and understand Jupyter Notebook. Jupyter Notebook can be thought as an interactive interface to the Python interpreter (python.exe). The code and the output of the code are shown cell by cell in the same screen (code-output-code-output-...). Note that the Python interpreter used by the Jupyter Notebook can be different than the one set by the Python extension.\r\n",
    "\r\n",
    "** Task 1 ** (2 points)  \r\n",
    "\r\n",
    "Create a new environment with a name 'HW1' using the Anaconda Navigator. Choose Python 3.7 as the Python version.  \r\n",
    "\r\n",
    "** Task 2 ** (4 points)  \r\n",
    "\r\n",
    "Open Anaconda Prompt. Change the environment to 'HW1' by running command below  \r\n",
    "\r\n",
    "    conda activate HW1  \r\n",
    "Get the list of the installed packages by running command below  \r\n",
    "\r\n",
    "    conda list\r\n",
    "Can you find Openseespy there? The documentation for some conda text commands can be found in https://docs.conda.io/projects/conda/en/latest/user-guide/cheatsheet.html.\r\n",
    "\r\n",
    "** Task 3 ** (4 points)\r\n",
    "\r\n",
    "Create a new Jupyter Notebook in VSCode. Check what Python interpreter is used. This information is located at the top right of the screen (see example below).  \r\n",
    "\r\n",
    "![Fig.2. Python version used in Jupyter Notebook](Fig2.JPG)  \r\n",
    "Fig.2 Python version used in Jupyter Notebook. It can be different than the one used by Python extension.  \r\n",
    "\r\n",
    "** Task 4 ** (6 points)\r\n",
    "\r\n",
    "Change the Python version in Jupyter Notebook to the one that is used by HW1 environment. This can be done by clicking the same area as in Figure above. There will be a dropdown menu. Choose the option with the name is something like \"...('hw1':...)\"\r\n",
    "\r\n",
    "** Task 5 ** (6 points)  \r\n",
    "\r\n",
    "Install the Openseespy package as in the Tutorial 1 (see Tut1.html or Tut1.ipynb). Note that this is just a mock exercise. While you can install Openseespy in this environment, it will not run since Openseespy in Windows requires Python 3.8.\r\n",
    "\r\n",
    "** Task 6 ** (8 points)  \r\n",
    "\r\n",
    "Redo Task 2 for 'HW1' environment and 'belajar1' environment (i.e., the environment created using Python 3.8 in Tutorial 1). If you cannot find Openseespy in both environments, install Openseespy following Task 4 and Task 5."
   ]
  },
  {
   "cell_type": "markdown",
   "metadata": {},
   "source": [
    "### Part 2. Coding exercise in Jupyter Notebook (30 points)  \n",
    "** Introduction **  \n",
    "  \n",
    "The <code>print('hello world')</code> command in the Tutorial 1 use the Python built-in function print() to output input string 'hello world' to the screen. Here we will explore some Python standard library functions which are used quite often.\n",
    "\n",
    "** Task 1 **(2 points)  \n",
    "Go to https://www.w3schools.com/python/. This is a good tutorial source for Python. Explore this website.  \n",
    "\n",
    "** Task 2 **(12 points)  \n",
    "Write a code that will generate 5 random numbers between 0 and 1 and print them one by one to the screen. When the Jupyter Notebook cell is run the output should be like  \n",
    "0.23  \n",
    "0.89  \n",
    "0.71  \n",
    "0.32  \n",
    "0.14  \n",
    "Input your code in Jupyter Notebook cell below (only can be done for ipynb file) and run it."
   ]
  },
  {
   "cell_type": "code",
   "execution_count": null,
   "metadata": {},
   "outputs": [],
   "source": []
  },
  {
   "cell_type": "markdown",
   "metadata": {},
   "source": [
    "** Task 3 **(16 points)  \n",
    "While the Python standard library has a lot functions, the custom librarys (such as opensees) are the ones that make Python used almost everywhere. Install the following library using conda (you can use Anaconda Navigator or Anaconda Prompt) in the HW1 environment and belajar1 environment:  \n",
    "- Pandas (https://docs.anaconda.com/anaconda/navigator/tutorials/pandas/)  \n",
    "- NumPy (https://numpy.org/install/)  \n",
    "- SciPy (https://anaconda.org/anaconda/scipy)  \n",
    "- Matplotlib (https://anaconda.org/conda-forge/matplotlib)  \n",
    "We will use this library in Tutorial 2."
   ]
  },
  {
   "cell_type": "markdown",
   "metadata": {},
   "source": [
    "### Part 3. (Optional) Working with Github in VSCode  \n",
    "** Introduction **  \n",
    "\n",
    "Github is a code hosting platform for many open sources code repositories. It uses Git as a version manager: i.e., it tracks the history of the files (what has been changed, who change it, when is it change, etc)  \n",
    "\n",
    "** Task 1**  \n",
    "If you don't have one, create Github account (https://github.com/)  \n",
    "\n",
    "** Task 2**  \n",
    "It is possible to link your repositories to VSCode such that, when you change your code, it can be pushed (uploaded) to Github. Check how to do this in https://code.visualstudio.com/docs/editor/github."
   ]
  },
  {
   "cell_type": "markdown",
   "metadata": {},
   "source": [
    "### Part 4. (Optional) Working with Windows Subsystem for Linux (WSL) in VSCode  \n",
    "** Introduction **  \n",
    "\n",
    "WSL allows GNU/Linux command to be run on Windows OS. VSCode can call WSL such that Python program written for Linux can run on VSCode on Windows.\n",
    "\n",
    "** Task **  \n",
    "Set up WSL in VSCode following https://code.visualstudio.com/docs/remote/wsl"
   ]
  }
 ],
 "metadata": {
  "kernelspec": {
   "display_name": "Python 3.7.6 64-bit ('env1': conda)",
   "metadata": {
    "interpreter": {
     "hash": "91aacd1b539e2862f1caf079a57213285104e225e3232346535812c6debd77b0"
    }
   },
   "name": "python3"
  },
  "language_info": {
   "codemirror_mode": {
    "name": "ipython",
    "version": 3
   },
   "file_extension": ".py",
   "mimetype": "text/x-python",
   "name": "python",
   "nbconvert_exporter": "python",
   "pygments_lexer": "ipython3",
   "version": "3.7.6-final"
  },
  "orig_nbformat": 2
 },
 "nbformat": 4,
 "nbformat_minor": 2
}