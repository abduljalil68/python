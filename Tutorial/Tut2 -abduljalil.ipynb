{
 "metadata": {
  "language_info": {
   "codemirror_mode": {
    "name": "ipython",
    "version": 3
   },
   "file_extension": ".py",
   "mimetype": "text/x-python",
   "name": "python",
   "nbconvert_exporter": "python",
   "pygments_lexer": "ipython3",
   "version": 3
  },
  "orig_nbformat": 2
 },
 "nbformat": 4,
 "nbformat_minor": 2,
 "cells": [
  {
   "source": [
    "## **Tutorial 21**  \n",
    "\n",
    "Objectives:  \n",
    "1. Understand the HW1 problems and solution (10 - 20 mins)  \n",
    "2. Understand what to be expected out of future homeworks  \n",
    "3. Understand W3School Python chapters: Syntax to Dictionaries (10 - 20 mins)  \n",
    "4. Able to read csv file, call module and function, write output to csv file (10 - 20 mins)\n",
    "5. Optional: Write the first module and function\n",
    "\n",
    "Activities  \n",
    "\n",
    "1. Discuss HW1 problems and solutions  \n",
    "2. Python theory session  \n",
    "    - Go to W3School Python tutorial:  \n",
    "    https://www.w3schools.com/python/  \n",
    "    - From Syntax to Dictionary part do: read description, run one of \"Try it Yourself\" block  \n",
    "3. Python practice session 1:\n",
    "    - Understand the task objective: read, call, write  \n",
    "    - Read a csv file using Pandas. See  \n",
    "    https://www.w3schools.com/python/pandas_csv.asp,  \n",
    "    https://pandas.pydata.org/pandas-docs/stable/reference/api/pandas.read_csv.html\n",
    "    - Call the plot1Graph function from funcList.py  \n",
    "    - Write the output of the function to csv file. See  \n",
    "    https://pandas.pydata.org/pandas-docs/stable/reference/api/pandas.DataFrame.to_csv.html\n",
    "4. Optional: Python practice session 2:  \n",
    "    - Open a new file and save it as myModule.py  \n",
    "    - Write a function myRandomGen inside the file that will do the Task 2 in Part 2 of HW1  \n",
    "    - Call the myRandomGen function from the Jupyter Notebook"
   ],
   "cell_type": "markdown",
   "metadata": {}
  },
  {
   "cell_type": "code",
   "execution_count": null,
   "metadata": {},
   "outputs": [],
   "source": []
  }
 ]
}