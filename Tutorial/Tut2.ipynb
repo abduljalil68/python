{
 "metadata": {
  "language_info": {
   "codemirror_mode": {
    "name": "ipython",
    "version": 3
   },
   "file_extension": ".py",
   "mimetype": "text/x-python",
   "name": "python",
   "nbconvert_exporter": "python",
   "pygments_lexer": "ipython3",
   "version": "3.7.9-final"
  },
  "orig_nbformat": 2,
  "kernelspec": {
   "name": "python3",
   "display_name": "Python 3.7.9 64-bit ('HW1': conda)",
   "metadata": {
    "interpreter": {
     "hash": "a89da439be5efd4d4b6b37621c96517aac5892f40097e719fea371ebe23238d5"
    }
   }
  }
 },
 "nbformat": 4,
 "nbformat_minor": 2,
 "cells": [
  {
   "source": [
    "## **Tutorial 2 to 3**  \n",
    "\n",
    "Objectives:  \n",
    "1. Understand the HW1 problems and solution (10 - 20 mins)  \n",
    "2. Understand what to be expected out of future homeworks  \n",
    "3. Understand W3School Python chapters: Syntax to Dictionaries (10 - 20 mins)  \n",
    "4. Able to read csv file, call module and function, write output to csv file (10 - 20 mins)\n",
    "5. Optional: Write the first module and function\n",
    "\n",
    "Activities  \n",
    "\n",
    "1. Discuss HW1 problems and solutions  \n",
    "2. Python theory session  \n",
    "    - Go to W3School Python tutorial:  \n",
    "    https://www.w3schools.com/python/  \n",
    "    - From Syntax to Dictionary part do: read description, run one of \"Try it Yourself\" block  \n",
    "3. Python practice session 1:\n",
    "    - Understand the task objective: read, call, write  \n",
    "    - Read a csv file using Pandas. See  \n",
    "    https://www.w3schools.com/python/pandas_csv.asp,  \n",
    "    https://pandas.pydata.org/pandas-docs/stable/reference/api/pandas.read_csv.html\n",
    "    - Call the plot1Graph function from funcList.py  \n",
    "    - Write the output of the function to csv file. See  \n",
    "    https://pandas.pydata.org/pandas-docs/stable/reference/api/pandas.DataFrame.to_csv.html\n",
    "4. Optional: Python practice session 2:  \n",
    "    - Open a new file and save it as pyTutAbdulJalil.py  \n",
    "    - Write a function myRandomGen inside the file that will do the Task 2 in Part 2 of HW1  \n",
    "    - Call the myRandomGen function from the Jupyter Notebook"
   ],
   "cell_type": "markdown",
   "metadata": {}
  },
  {
   "source": [
    "### Activity 2"
   ],
   "cell_type": "markdown",
   "metadata": {}
  },
  {
   "cell_type": "code",
   "execution_count": 51,
   "metadata": {},
   "outputs": [
    {
     "output_type": "stream",
     "name": "stdout",
     "text": [
      "<class 'int'>\n<class 'dict'>\n<class 'list'>\n<class 'float'>\n<class 'bool'>\n<class 'str'>\n"
     ]
    }
   ],
   "source": [
    "x = 3\n",
    "x = 1\n",
    "xDict = {'3.2':3.2, 'abc':'dr'}#dictionary\n",
    "xList = [1,2,3]\n",
    "# print(x['abc'])\n",
    "xF = float(x)\n",
    "bool1 = True\n",
    "str1 = 'k1sjd'\n",
    "if(float(x)>2):\n",
    "    print('1')\n",
    "    if(float(x)<5):\n",
    "        print('2')\n",
    "print(type(x))\n",
    "print(type(xDict))\n",
    "print(type(xList))\n",
    "print(type(xF))\n",
    "print(type(bool1))\n",
    "print(type(str1))\n"
   ]
  },
  {
   "source": [
    "#### Activity 3"
   ],
   "cell_type": "markdown",
   "metadata": {}
  },
  {
   "cell_type": "code",
   "execution_count": 1,
   "metadata": {},
   "outputs": [],
   "source": [
    "import pandas as pd"
   ]
  },
  {
   "cell_type": "code",
   "execution_count": 2,
   "metadata": {},
   "outputs": [
    {
     "output_type": "execute_result",
     "data": {
      "text/plain": [
       "   xArr2  yArr2      zArr2\n",
       "0   -3.0   -3.0  10.482597\n",
       "1   -3.0   -2.9   9.761660\n",
       "2   -3.0   -2.8  10.164283\n",
       "3   -3.0   -2.7   9.943531\n",
       "4   -3.0   -2.6   9.722873"
      ],
      "text/html": "<div>\n<style scoped>\n    .dataframe tbody tr th:only-of-type {\n        vertical-align: middle;\n    }\n\n    .dataframe tbody tr th {\n        vertical-align: top;\n    }\n\n    .dataframe thead th {\n        text-align: right;\n    }\n</style>\n<table border=\"1\" class=\"dataframe\">\n  <thead>\n    <tr style=\"text-align: right;\">\n      <th></th>\n      <th>xArr2</th>\n      <th>yArr2</th>\n      <th>zArr2</th>\n    </tr>\n  </thead>\n  <tbody>\n    <tr>\n      <th>0</th>\n      <td>-3.0</td>\n      <td>-3.0</td>\n      <td>10.482597</td>\n    </tr>\n    <tr>\n      <th>1</th>\n      <td>-3.0</td>\n      <td>-2.9</td>\n      <td>9.761660</td>\n    </tr>\n    <tr>\n      <th>2</th>\n      <td>-3.0</td>\n      <td>-2.8</td>\n      <td>10.164283</td>\n    </tr>\n    <tr>\n      <th>3</th>\n      <td>-3.0</td>\n      <td>-2.7</td>\n      <td>9.943531</td>\n    </tr>\n    <tr>\n      <th>4</th>\n      <td>-3.0</td>\n      <td>-2.6</td>\n      <td>9.722873</td>\n    </tr>\n  </tbody>\n</table>\n</div>"
     },
     "metadata": {},
     "execution_count": 2
    }
   ],
   "source": [
    "df1 = pd.read_csv('data/shiftLine.csv')\n",
    "df1.head()"
   ]
  },
  {
   "cell_type": "code",
   "execution_count": 3,
   "metadata": {},
   "outputs": [],
   "source": [
    "import pyTut as pt"
   ]
  },
  {
   "cell_type": "code",
   "execution_count": 4,
   "metadata": {},
   "outputs": [
    {
     "output_type": "execute_result",
     "data": {
      "text/plain": [
       "   xArr2  yArr2      zArr2\n",
       "0   -2.0   -3.0  10.482597\n",
       "1   -2.0   -2.9   9.761660\n",
       "2   -2.0   -2.8  10.164283\n",
       "3   -2.0   -2.7   9.943531\n",
       "4   -2.0   -2.6   9.722873"
      ],
      "text/html": "<div>\n<style scoped>\n    .dataframe tbody tr th:only-of-type {\n        vertical-align: middle;\n    }\n\n    .dataframe tbody tr th {\n        vertical-align: top;\n    }\n\n    .dataframe thead th {\n        text-align: right;\n    }\n</style>\n<table border=\"1\" class=\"dataframe\">\n  <thead>\n    <tr style=\"text-align: right;\">\n      <th></th>\n      <th>xArr2</th>\n      <th>yArr2</th>\n      <th>zArr2</th>\n    </tr>\n  </thead>\n  <tbody>\n    <tr>\n      <th>0</th>\n      <td>-2.0</td>\n      <td>-3.0</td>\n      <td>10.482597</td>\n    </tr>\n    <tr>\n      <th>1</th>\n      <td>-2.0</td>\n      <td>-2.9</td>\n      <td>9.761660</td>\n    </tr>\n    <tr>\n      <th>2</th>\n      <td>-2.0</td>\n      <td>-2.8</td>\n      <td>10.164283</td>\n    </tr>\n    <tr>\n      <th>3</th>\n      <td>-2.0</td>\n      <td>-2.7</td>\n      <td>9.943531</td>\n    </tr>\n    <tr>\n      <th>4</th>\n      <td>-2.0</td>\n      <td>-2.6</td>\n      <td>9.722873</td>\n    </tr>\n  </tbody>\n</table>\n</div>"
     },
     "metadata": {},
     "execution_count": 4
    }
   ],
   "source": [
    "df2 = pt.add1(df1)\n",
    "df2.head()"
   ]
  },
  {
   "cell_type": "code",
   "execution_count": 6,
   "metadata": {},
   "outputs": [],
   "source": [
    "df2.to_csv('data/shiftLinePlus1.csv',index=False)"
   ]
  },
  {
   "cell_type": "code",
   "execution_count": null,
   "metadata": {},
   "outputs": [],
   "source": []
  }
 ]
}